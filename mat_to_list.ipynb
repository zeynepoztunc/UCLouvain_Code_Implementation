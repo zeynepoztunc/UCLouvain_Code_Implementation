{
  "nbformat": 4,
  "nbformat_minor": 0,
  "metadata": {
    "colab": {
      "provenance": []
    },
    "kernelspec": {
      "name": "python3",
      "display_name": "Python 3"
    },
    "language_info": {
      "name": "python"
    }
  },
  "cells": [
    {
      "cell_type": "code",
      "execution_count": 1,
      "metadata": {
        "id": "n2Nfiszq47iJ"
      },
      "outputs": [],
      "source": [
        "def mat_to_list(adj_mat):\n",
        "    \"\"\" Convert adjacency matrix to an adjacency list representation\n",
        "\n",
        "    Parameters:\n",
        "    -----------\n",
        "    adj_mat : (a square 0-1 matrix)\n",
        "        Adjacency matrix (n x n) of the graph (of n nodes)\n",
        "\n",
        "    Returns:\n",
        "    --------\n",
        "     adj_list: `list[list[int]]`\n",
        "        The adjacency list of the graph\n",
        "    \"\"\"\n",
        "    vertex_num = len(adj_mat)\n",
        "    adj_list = [[] for _ in range(vertex_num)]\n",
        "\n",
        "    for i in range(vertex_num):\n",
        "        for j in range(vertex_num):\n",
        "            if adj_mat[i][j] == 1:\n",
        "                adj_list[i].append(j)\n",
        "\n",
        "    return adj_list\n"
      ]
    },
    {
      "cell_type": "code",
      "source": [
        "# Empty graph\n",
        "adj_matrix_empty = []\n",
        "expected_empty = []\n",
        "result_empty = mat_to_list(adj_matrix_empty)\n",
        "if result_empty == expected_empty:\n",
        "    print(\"Empty graph - Pass\")\n",
        "else:\n",
        "    print(\"Empty graph - Fail\")\n",
        "print(\"Result:\", result_empty)"
      ],
      "metadata": {
        "colab": {
          "base_uri": "https://localhost:8080/"
        },
        "id": "gFxBoUv38F20",
        "outputId": "edcbe458-194e-4898-fbca-92eddcf0c4b6"
      },
      "execution_count": 3,
      "outputs": [
        {
          "output_type": "stream",
          "name": "stdout",
          "text": [
            "Empty graph - Pass\n",
            "Result: []\n"
          ]
        }
      ]
    },
    {
      "cell_type": "code",
      "source": [
        "# Graph with no edges\n",
        "adj_matrix_no_edges = [[0, 0], [0, 0]]\n",
        "expected_no_edges = [[], []]\n",
        "result_no_edges = mat_to_list(adj_matrix_no_edges)\n",
        "if result_no_edges == expected_no_edges:\n",
        "    print(\"Graph with no edges - Pass\")\n",
        "else:\n",
        "    print(\"Graph with no edges - Fail\")\n",
        "print(\"Result:\", result_no_edges)\n"
      ],
      "metadata": {
        "colab": {
          "base_uri": "https://localhost:8080/"
        },
        "id": "RAgEEBm781yW",
        "outputId": "b76e85a8-22ad-471d-d6bc-76b7761d18b1"
      },
      "execution_count": 4,
      "outputs": [
        {
          "output_type": "stream",
          "name": "stdout",
          "text": [
            "Graph with no edges - Pass\n",
            "Result: [[], []]\n"
          ]
        }
      ]
    },
    {
      "cell_type": "code",
      "source": [
        "# Graph with a single edge\n",
        "adj_matrix_single_edge = [[0, 1], [0, 0]]\n",
        "expected_single_edge = [[1], []]\n",
        "result_single_edge = mat_to_list(adj_matrix_single_edge)\n",
        "if result_single_edge == expected_single_edge:\n",
        "    print(\"Graph with a single edge - Pass\")\n",
        "else:\n",
        "    print(\"Graph with a single edge - Fail\")\n",
        "print(\"Result:\", result_single_edge)\n"
      ],
      "metadata": {
        "colab": {
          "base_uri": "https://localhost:8080/"
        },
        "id": "XBcVv3PZ83LL",
        "outputId": "63e5cda4-8f6a-4579-b625-99111769cd1a"
      },
      "execution_count": 5,
      "outputs": [
        {
          "output_type": "stream",
          "name": "stdout",
          "text": [
            "Graph with a single edge - Pass\n",
            "Result: [[1], []]\n"
          ]
        }
      ]
    },
    {
      "cell_type": "code",
      "source": [
        "# Complete graph\n",
        "adj_matrix_complete = [[0, 1, 1], [1, 0, 1], [1, 1, 0]]\n",
        "expected_complete = [[1, 2], [0, 2], [0, 1]]\n",
        "result_complete = mat_to_list(adj_matrix_complete)\n",
        "if result_complete == expected_complete:\n",
        "    print(\"Complete graph - Pass\")\n",
        "else:\n",
        "    print(\"Complete graph - Fail\")\n",
        "print(\"Result:\", result_complete)\n",
        "\n"
      ],
      "metadata": {
        "colab": {
          "base_uri": "https://localhost:8080/"
        },
        "id": "pJEGGRxF88JW",
        "outputId": "6a9e9f76-44cc-4509-ad06-4c38abad4da0"
      },
      "execution_count": 6,
      "outputs": [
        {
          "output_type": "stream",
          "name": "stdout",
          "text": [
            "Complete graph - Pass\n",
            "Result: [[1, 2], [0, 2], [0, 1]]\n"
          ]
        }
      ]
    },
    {
      "cell_type": "code",
      "source": [
        "# Mixed graph\n",
        "adj_matrix_mixed = [\n",
        "    [0, 1, 0, 1, 0, 0],\n",
        "    [0, 0, 1, 0, 0, 0],\n",
        "    [1, 0, 0, 0, 0, 0],\n",
        "    [0, 0, 0, 0, 1, 0],\n",
        "    [0, 0, 0, 0, 0, 1],\n",
        "    [0, 0, 0, 0, 0, 0]\n",
        "]\n",
        "expected_mixed = [[1, 3], [2], [0], [4], [5], []]\n",
        "result_mixed = mat_to_list(adj_matrix_mixed)\n",
        "if result_mixed == expected_mixed:\n",
        "    print(\"Mixed graph - Pass\")\n",
        "else:\n",
        "    print(\"Mixed graph - Fail\")\n",
        "print(\"Result:\", result_mixed)\n",
        "\n"
      ],
      "metadata": {
        "colab": {
          "base_uri": "https://localhost:8080/"
        },
        "id": "c7hGtCO289Qe",
        "outputId": "e54d1fdb-cda4-40bb-f604-e7ae60351269"
      },
      "execution_count": 7,
      "outputs": [
        {
          "output_type": "stream",
          "name": "stdout",
          "text": [
            "Mixed graph - Pass\n",
            "Result: [[1, 3], [2], [0], [4], [5], []]\n"
          ]
        }
      ]
    }
  ]
}