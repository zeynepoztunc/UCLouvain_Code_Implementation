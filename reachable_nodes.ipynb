{
  "nbformat": 4,
  "nbformat_minor": 0,
  "metadata": {
    "colab": {
      "provenance": []
    },
    "kernelspec": {
      "name": "python3",
      "display_name": "Python 3"
    },
    "language_info": {
      "name": "python"
    }
  },
  "cells": [
    {
      "cell_type": "code",
      "execution_count": 3,
      "metadata": {
        "id": "YYWhI4Wk-f-b"
      },
      "outputs": [],
      "source": [
        "def reachable(adj_list, start_node):\n",
        "    \"\"\" Compute the nodes reachable from a start node\n",
        "\n",
        "    For the above example, reachable([[1, 3], [2], [0], [4], [3], []], 0)) must return {0, 1, 2, 3, 4}\n",
        "    and reachable([[1, 3], [2], [0], [4], [3], []], 3) must return {3, 4}\n",
        "\n",
        "    Parameters:\n",
        "    -----------\n",
        "    adj_list : the adjacency list of the graph\n",
        "    start_node: the index of the start node\n",
        "\n",
        "    Returns:\n",
        "    --------\n",
        "    reachable: set(int) the set of nodes reachable from start_node\n",
        "\n",
        "\n",
        "    \"\"\"\n",
        "    # TODO\n",
        "\n",
        "    if not adj_list or start_node >= len(adj_list) or start_node < 0:\n",
        "        return set()\n",
        "\n",
        "    visited = set()  # Set of visited nodes\n",
        "    queue = [start_node]  # Initially single element\n",
        "\n",
        "    while queue:  # While there are vertices in the queue\n",
        "        current_node = queue.pop(0)  # Dequeue, use pop(0) to simulate a queue\n",
        "        visited.add(current_node)  # The current node is visited\n",
        "        for adjacent in adj_list[current_node]:\n",
        "            if adjacent not in visited:  # If the adjacent node is not visited before\n",
        "                queue.append(adjacent)  # Enqueue\n",
        "    return visited\n"
      ]
    },
    {
      "cell_type": "code",
      "source": [
        "# Empty graph\n",
        "adj_list_empty = []\n",
        "start_node_empty = 0  # This is hypothetical as there are no nodes to start from\n",
        "expected_empty = set()\n",
        "result_empty = reachable(adj_list_empty, start_node_empty)\n",
        "if result_empty == expected_empty:\n",
        "    print(\"Empty graph - Pass\")\n",
        "else:\n",
        "    print(\"Empty graph - Fail\")\n",
        "print(\"Result:\", result_empty)\n"
      ],
      "metadata": {
        "colab": {
          "base_uri": "https://localhost:8080/"
        },
        "id": "FSYXCzPl-pdj",
        "outputId": "db479577-783c-49b4-9839-7fbd5253134c"
      },
      "execution_count": 4,
      "outputs": [
        {
          "output_type": "stream",
          "name": "stdout",
          "text": [
            "Empty graph - Pass\n",
            "Result: set()\n"
          ]
        }
      ]
    },
    {
      "cell_type": "code",
      "source": [
        "# Graph with no edges\n",
        "adj_list_no_edges = [[], []]\n",
        "start_node_no_edges = 0\n",
        "expected_no_edges = {0}\n",
        "result_no_edges = reachable(adj_list_no_edges, start_node_no_edges)\n",
        "if result_no_edges == expected_no_edges:\n",
        "    print(\"Graph with no edges - Pass\")\n",
        "else:\n",
        "    print(\"Graph with no edges - Fail\")\n",
        "print(\"Result:\", result_no_edges)\n"
      ],
      "metadata": {
        "colab": {
          "base_uri": "https://localhost:8080/"
        },
        "id": "7h3gsFwZ_DUI",
        "outputId": "df32081f-0b29-415d-a315-8b40368e4900"
      },
      "execution_count": 5,
      "outputs": [
        {
          "output_type": "stream",
          "name": "stdout",
          "text": [
            "Graph with no edges - Pass\n",
            "Result: {0}\n"
          ]
        }
      ]
    },
    {
      "cell_type": "code",
      "source": [
        "# Graph with a single edge\n",
        "adj_list_single_edge = [[1], []]\n",
        "start_node_single_edge = 0\n",
        "expected_single_edge = {0, 1}\n",
        "result_single_edge = reachable(adj_list_single_edge, start_node_single_edge)\n",
        "if result_single_edge == expected_single_edge:\n",
        "    print(\"Graph with a single edge - Pass\")\n",
        "else:\n",
        "    print(\"Graph with a single edge - Fail\")\n",
        "print(\"Result:\", result_single_edge)\n"
      ],
      "metadata": {
        "colab": {
          "base_uri": "https://localhost:8080/"
        },
        "id": "icGhY--r_F15",
        "outputId": "160422c2-4af3-4c41-974c-ca3af4acf337"
      },
      "execution_count": 7,
      "outputs": [
        {
          "output_type": "stream",
          "name": "stdout",
          "text": [
            "Graph with a single edge - Pass\n",
            "Result: {0, 1}\n"
          ]
        }
      ]
    },
    {
      "cell_type": "code",
      "source": [
        "# Complete graph\n",
        "adj_list_complete = [[1, 2], [0, 2], [0, 1]]\n",
        "start_node_complete = 0\n",
        "expected_complete = {0, 1, 2}\n",
        "result_complete = reachable(adj_list_complete, start_node_complete)\n",
        "if result_complete == expected_complete:\n",
        "    print(\"Complete graph - Pass\")\n",
        "else:\n",
        "    print(\"Complete graph - Fail\")\n",
        "print(\"Result:\", result_complete)\n"
      ],
      "metadata": {
        "colab": {
          "base_uri": "https://localhost:8080/"
        },
        "id": "dSWl2y1F_HGi",
        "outputId": "82e91d68-5f14-49d7-ee1d-783d0dcd1d72"
      },
      "execution_count": 8,
      "outputs": [
        {
          "output_type": "stream",
          "name": "stdout",
          "text": [
            "Complete graph - Pass\n",
            "Result: {0, 1, 2}\n"
          ]
        }
      ]
    },
    {
      "cell_type": "code",
      "source": [
        "# Mixed graph\n",
        "adj_list_mixed = [\n",
        "    [1, 3], [2], [0], [4], [], []\n",
        "]\n",
        "start_node_mixed = 0\n",
        "expected_mixed = {0, 1, 2, 3, 4}\n",
        "result_mixed = reachable(adj_list_mixed, start_node_mixed)\n",
        "if result_mixed == expected_mixed:\n",
        "    print(\"Mixed graph - Pass\")\n",
        "else:\n",
        "    print(\"Mixed graph - Fail\")\n",
        "print(\"Result:\", result_mixed)\n"
      ],
      "metadata": {
        "colab": {
          "base_uri": "https://localhost:8080/"
        },
        "id": "6ltOSR_O_Pjb",
        "outputId": "901a4073-7ce8-4d07-ca4f-de46e2cc555c"
      },
      "execution_count": 9,
      "outputs": [
        {
          "output_type": "stream",
          "name": "stdout",
          "text": [
            "Mixed graph - Pass\n",
            "Result: {0, 1, 2, 3, 4}\n"
          ]
        }
      ]
    }
  ]
}